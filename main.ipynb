{
 "cells": [
  {
   "cell_type": "code",
   "execution_count": null,
   "metadata": {},
   "outputs": [],
   "source": [
    "import findspark\n",
    "findspark.init()\n",
    "from pyspark.sql import SparkSession\n",
    "from pyspark.sql import functions as F\n",
    "\n",
    "from src.analyzer.euroleague_analyzer import EuroLeagueAnalyzer\n",
    "from src.plotter.euroleague_plotter import EuroLeaguePlotter"
   ]
  },
  {
   "cell_type": "code",
   "execution_count": null,
   "metadata": {},
   "outputs": [],
   "source": [
    "# Create a Spark session\n",
    "spark = SparkSession.builder.appName(\"EuroLeagueAnalysis\").getOrCreate()\n",
    "# Enable Arrow-based columnar data transfers\n",
    "spark.conf.set(\"spark.sql.execution.arrow.enabled\", \"true\")\n",
    "\n",
    "# Read the CSV file into a DataFrame and infer schema\n",
    "data_path = \"data/games.csv\"\n",
    "df = spark.read.csv(data_path, header=True, inferSchema=True)\n",
    "\n",
    "# extract columns needed for analysis\n",
    "analysis_columns = ['season', 'team', 'PTS', 'OP_PTS', '3P%', 'OP_3P%', '2P%', 'OP_2P%', 'FTR', 'OP_FTR', 'OREB%', 'DREB%', 'ASTR', 'OP_ASTR', \n",
    "                    'TOVR', 'OP_TOVR', 'STLR', 'OP_STLR', 'BLKR', 'OP_BLKR', 'TS%', 'OP_TS%', 'OP_team', 'win']\n",
    "\n",
    "el_df = df.select(*analysis_columns).withColumn(\"game_no\", (F.monotonically_increasing_id() % df.count()) + 1)\n",
    "\n",
    "# create EuroLeaguePlotter object to draw matplotlib graphs\n",
    "el_plotter = EuroLeaguePlotter()"
   ]
  },
  {
   "cell_type": "code",
   "execution_count": null,
   "metadata": {},
   "outputs": [],
   "source": [
    "# Create EuroLeagueAnalyzer object to get average OFF and DEF stats\n",
    "el_analyzer = EuroLeagueAnalyzer(spark, el_df)\n",
    "avg_df = el_analyzer.calculate_team_averages()\n",
    "\n",
    "# Convert DataFrame to Pandas DataFrame for plotting\n",
    "top_teams_pd = avg_df.toPandas()\n",
    "\n",
    "# Plot graph\n",
    "el_plotter.plot_basic_graph(top_teams_pd, \"team\", \"AVG_PTS_DIFF\", \"Teams\", \"Average Points Difference\", \"Top Teams based on Average Points Difference\")"
   ]
  },
  {
   "cell_type": "code",
   "execution_count": null,
   "metadata": {},
   "outputs": [],
   "source": [
    "# Get largest win streaks and show top 10\n",
    "streak_df = el_analyzer.calculate_team_win_streaks()\n",
    "streak_df.show(10)\n",
    "\n",
    "top_win_streaks_pd = streak_df.toPandas()\n",
    "\n",
    "# Plot graph\n",
    "el_plotter.plot_basic_graph(top_win_streaks_pd, \"team\", \"streak_length\", \"Teams\", \"Most consecutive wins\", \"Top Teams based on Consecutive Wins\", \"green\")\n",
    "\n",
    "# Stop the Spark session\n",
    "spark.stop()"
   ]
  }
 ],
 "metadata": {
  "kernelspec": {
   "display_name": "Python 3",
   "language": "python",
   "name": "python3"
  },
  "language_info": {
   "codemirror_mode": {
    "name": "ipython",
    "version": 3
   },
   "file_extension": ".py",
   "mimetype": "text/x-python",
   "name": "python",
   "nbconvert_exporter": "python",
   "pygments_lexer": "ipython3",
   "version": "3.12.0"
  }
 },
 "nbformat": 4,
 "nbformat_minor": 2
}
